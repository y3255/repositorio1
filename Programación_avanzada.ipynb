{
  "nbformat": 4,
  "nbformat_minor": 0,
  "metadata": {
    "colab": {
      "provenance": [],
      "authorship_tag": "ABX9TyPJBposlMshq5m55yxBDn3I",
      "include_colab_link": true
    },
    "kernelspec": {
      "name": "python3",
      "display_name": "Python 3"
    },
    "language_info": {
      "name": "python"
    }
  },
  "cells": [
    {
      "cell_type": "markdown",
      "metadata": {
        "id": "view-in-github",
        "colab_type": "text"
      },
      "source": [
        "<a href=\"https://colab.research.google.com/github/y3255/repositorio1/blob/main/Programaci%C3%B3n_avanzada.ipynb\" target=\"_parent\"><img src=\"https://colab.research.google.com/assets/colab-badge.svg\" alt=\"Open In Colab\"/></a>"
      ]
    },
    {
      "cell_type": "markdown",
      "source": [
        "Problema 1:\n",
        "Implementaremos una clase llamada Persona que tendrá como atributo (variable) su nombre y dos métodos (funciones), uno de dichos métodos inicializará el atributo nombre y el siguiente método mostrará en la pantalla el contenido del mismo.\n",
        "\n",
        "Definir dos objetos de la clase Persona."
      ],
      "metadata": {
        "id": "GA2z284jwuDk"
      }
    },
    {
      "cell_type": "code",
      "execution_count": null,
      "metadata": {
        "colab": {
          "base_uri": "https://localhost:8080/"
        },
        "id": "2HLksPjrFctX",
        "outputId": "92ac83a9-2754-4a82-8113-41cba3a1495d"
      },
      "outputs": [
        {
          "output_type": "stream",
          "name": "stdout",
          "text": [
            "Nombre Pedro\n",
            "Nombre Carla\n"
          ]
        }
      ],
      "source": [
        "class Persona:\n",
        "\n",
        "    def inicializar(self,nom):\n",
        "        self.nombre=nom\n",
        "\n",
        "    def imprimir(self):\n",
        "        print(\"Nombre\",self.nombre)\n",
        "\n",
        "# bloque principal\n",
        "\n",
        "persona1=Persona()\n",
        "persona1.inicializar(\"Pedro\")\n",
        "persona1.imprimir()\n",
        "\n",
        "persona2=Persona()\n",
        "persona2.inicializar(\"Carla\")\n",
        "persona2.imprimir()"
      ]
    },
    {
      "cell_type": "markdown",
      "source": [
        "Siempre conviene buscar un nombre de clase lo más próximo a lo que representa. La palabra clave para declarar la clase es class, seguidamente el nombre de la clase y luego dos puntos.\n",
        "\n",
        "Los métodos de una clase se definen utilizando la misma sintaxis que para la definición de funciones.\n",
        "\n",
        "Como veremos todo método tiene como primer parámetro el identificador self que tiene la referencia del objeto que llamó al método.\n",
        "\n",
        "Luego dentro del método diferenciamos los atributos del objeto antecediendo el identificador self:"
      ],
      "metadata": {
        "id": "ZmUs_OKWw3te"
      }
    },
    {
      "cell_type": "code",
      "source": [
        "self.nombre=nom"
      ],
      "metadata": {
        "id": "3WNiueKPxUK_"
      },
      "execution_count": null,
      "outputs": []
    },
    {
      "cell_type": "markdown",
      "source": [
        "Con la asignación previa almacenamos en el atributo nombre el parámetro nom, los atributos siguen existiendo cuando finaliza la ejecución del método. Por ello cuando se ejecuta el método imprimir podemos mostrar el nombre que cargamos en el primer método.\n",
        "\n",
        "Decíamos que una clase es un molde que nos permite definir objetos. Ahora veamos cual es la sintaxis para la creación de objetos de la clase Persona:"
      ],
      "metadata": {
        "id": "gXMkgKQHxfXk"
      }
    },
    {
      "cell_type": "code",
      "source": [
        "# bloque principal\n",
        "\n",
        "persona1=Persona()\n",
        "persona1.inicializar(\"Pedro\")\n",
        "persona1.imprimir()\n",
        "\n",
        "persona2=Persona()\n",
        "persona2.inicializar(\"Carla\")\n",
        "persona2.imprimir()"
      ],
      "metadata": {
        "id": "DW0hXA8wxhAl"
      },
      "execution_count": null,
      "outputs": []
    },
    {
      "cell_type": "markdown",
      "source": [
        "Definimos un objeto llamado persona1 y lo creamos asignándole el nombre de la clase con paréntesis abierto y cerrado al final (como cuando llamamos a una función)\n",
        "\n",
        "Luego para llamar a los métodos debemos disponer luego del nombre del objeto el operador . y por último el nombre del método (función)\n",
        "\n",
        "En el caso que tenga parámetros se los enviamos (salvo el primer parámetro (self) que el mismo Python se encarga de enviar la referencia del objeto que se creó):"
      ],
      "metadata": {
        "id": "MuVgn6bDxmU1"
      }
    },
    {
      "cell_type": "code",
      "source": [
        "persona1.inicializar(\"Pedro\")"
      ],
      "metadata": {
        "id": "Gghe1BQ3xpPc"
      },
      "execution_count": null,
      "outputs": []
    },
    {
      "cell_type": "markdown",
      "source": [
        "También podemos definir tantos objetos de la clase Persona como sean necesarios para nuestro algoritmo:\n",
        "\n"
      ],
      "metadata": {
        "id": "fHx7dZhVxryv"
      }
    },
    {
      "cell_type": "code",
      "source": [
        "persona2=Persona()\n",
        "persona2.inicializar(\"Carla\")\n",
        "persona2.imprimir()"
      ],
      "metadata": {
        "id": "I5HQjv5CxzvZ"
      },
      "execution_count": null,
      "outputs": []
    },
    {
      "cell_type": "markdown",
      "source": [
        "Problema 2:\n",
        "Implementar una clase llamada Alumno que tenga como atributos su nombre y su nota. Definir los métodos para inicializar sus atributos, imprimirlos y mostrar un mensaje si está regular (nota mayor o igual a 4)\n",
        "\n",
        "Definir dos objetos de la clase Alumno."
      ],
      "metadata": {
        "id": "YzKV3-Cvx5Uv"
      }
    },
    {
      "cell_type": "code",
      "source": [
        "class Alumno:\n",
        "\n",
        "    def inicializar(self,nombre,nota):\n",
        "        self.nombre=nombre\n",
        "        self.nota=nota\n",
        "\n",
        "    def imprimir(self):\n",
        "        print(\"Nombre:\",self.nombre)\n",
        "        print(\"Nota:\",self.nota)\n",
        "\n",
        "    def mostrar_estado(self):\n",
        "        if self.nota>=4:\n",
        "            print(\"Regular\")\n",
        "        else:\n",
        "            print(\"Libre\")\n",
        "\n",
        "\n",
        "# bloque principal\n",
        "\n",
        "alumno1=Alumno()\n",
        "alumno1.inicializar(\"diego\",2)\n",
        "alumno1.imprimir()\n",
        "alumno1.mostrar_estado()\n",
        "\n",
        "alumno2=Alumno()\n",
        "alumno2.inicializar(\"ana\",10)\n",
        "alumno2.imprimir()\n",
        "alumno2.mostrar_estado()"
      ],
      "metadata": {
        "colab": {
          "base_uri": "https://localhost:8080/"
        },
        "id": "eno57P_zLeub",
        "outputId": "e78e8f3c-72c0-4e67-f3d0-77b9a78fe5c3"
      },
      "execution_count": null,
      "outputs": [
        {
          "output_type": "stream",
          "name": "stdout",
          "text": [
            "Nombre: diego\n",
            "Nota: 2\n",
            "Libre\n",
            "Nombre: ana\n",
            "Nota: 10\n",
            "Regular\n"
          ]
        }
      ]
    },
    {
      "cell_type": "markdown",
      "source": [
        "Declaramos la clase Alumno y definimos sus tres métodos, en el método inicializar llegan como parámetros a parte del self el nombre y nota del alumno:\n",
        "\n"
      ],
      "metadata": {
        "id": "CQOqptJPx8wN"
      }
    },
    {
      "cell_type": "code",
      "source": [
        "def inicializar(self,nombre,nota):\n",
        "        self.nombre=nombre\n",
        "        self.nota=nota"
      ],
      "metadata": {
        "id": "YuFYVT5Tx_EO"
      },
      "execution_count": null,
      "outputs": []
    },
    {
      "cell_type": "markdown",
      "source": [
        "No hay problema que los atributos se llamen iguales a los parámetros ya que siempre hay que anteceder la palabra \"self\" al nombre del atributo:\n",
        "\n"
      ],
      "metadata": {
        "id": "jmVn-UnbyAKB"
      }
    },
    {
      "cell_type": "code",
      "source": [
        "        self.nombre=nombre"
      ],
      "metadata": {
        "id": "STxHYpG6yCmx"
      },
      "execution_count": null,
      "outputs": []
    },
    {
      "cell_type": "markdown",
      "source": [
        "Tener en cuenta que cuando se crean los atributos en el método inicializar luego podemos acceder a los mismos en los otros métodos de la clase, por ejemplo en el método mostrar_estado verificamos el valor almacenado en el atributo nota:\n",
        "\n"
      ],
      "metadata": {
        "id": "rzv-SoimyFVG"
      }
    },
    {
      "cell_type": "code",
      "source": [
        " def mostrar_estado(self):\n",
        "        if self.nota>=4:\n",
        "            print(\"Regular\")\n",
        "        else:\n",
        "            print(\"Libre\")"
      ],
      "metadata": {
        "id": "DcrnBb-byHmX"
      },
      "execution_count": null,
      "outputs": []
    },
    {
      "cell_type": "markdown",
      "source": [
        "Decimos que una clase es un molde que nos permite crear luego objetos de dicha clase, en este problema el molde Alumno lo utilizamos para crear dos objetos de dicha clase:\n"
      ],
      "metadata": {
        "id": "8mbHFpR9yKHw"
      }
    },
    {
      "cell_type": "code",
      "source": [
        "# bloque principal\n",
        "\n",
        "alumno1=Alumno()\n",
        "alumno1.inicializar(\"diego\",2)\n",
        "alumno1.imprimir()\n",
        "alumno1.mostrar_estado()\n",
        "\n",
        "alumno2=Alumno()\n",
        "alumno2.inicializar(\"ana\",10)\n",
        "alumno2.imprimir()\n",
        "alumno2.mostrar_estado()"
      ],
      "metadata": {
        "id": "2z_Z2YyMyP-P"
      },
      "execution_count": null,
      "outputs": []
    },
    {
      "cell_type": "markdown",
      "source": [
        "Problemas propuestos\n",
        "\n",
        "Confeccionar una clase que permita carga el nombre y la edad de una persona. Mostrar los datos cargados. Imprimir un mensaje si es mayor de edad (edad>=18)\n"
      ],
      "metadata": {
        "id": "-UXS7qCwyVG8"
      }
    },
    {
      "cell_type": "code",
      "source": [
        "class persona:\n",
        "    def inicializar(self,nombre,edad):\n",
        "        self.nombre=nombre\n",
        "        self.edad=edad\n",
        "\n",
        "    def imprimir(self):\n",
        "        print(\"Nombre:\",self.nombre)\n",
        "        print(\"Edad:\",self.edad)\n",
        "\n",
        "    def mayor_edad(self):\n",
        "        if self.edad>=18:\n",
        "            print(\"Es mayor de edad\")\n",
        "        else:\n",
        "            print(\"Es menor de edad\")\n",
        "\n",
        "# bloque principal\n",
        "persona1=persona()\n",
        "persona1.inicializar('Yin', 20)\n",
        "persona1.imprimir()\n",
        "persona1.mayor_edad()"
      ],
      "metadata": {
        "colab": {
          "base_uri": "https://localhost:8080/"
        },
        "id": "6-2_7y28Lj7u",
        "outputId": "16f6e2d3-ed4a-4111-919a-6d083c02f4d0"
      },
      "execution_count": null,
      "outputs": [
        {
          "output_type": "stream",
          "name": "stdout",
          "text": [
            "Nombre: Yin\n",
            "Edad: 20\n",
            "Es mayor de edad\n"
          ]
        }
      ]
    },
    {
      "cell_type": "markdown",
      "source": [
        "Desarrollar un programa que cargue los lados de un triángulo e implemente los siguientes métodos: inicializar los atributos, imprimir el valor del lado mayor y otro método que muestre si es equilátero o no. El nombre de la clase llamarla Triangulo.\n"
      ],
      "metadata": {
        "id": "hamLz5a_zg17"
      }
    },
    {
      "cell_type": "code",
      "source": [
        "class Triangulo:\n",
        "    def inicializar(self):\n",
        "        self.lado1=int(input(\"ingrese el primer valor: \"))\n",
        "        self.lado2=int(input(\"ingrese el segundo valor: \"))\n",
        "        self.lado3=int(input(\"ingrese el tercer valor: \"))\n",
        "\n",
        "    def imprimir(self):\n",
        "        print(\"Lado 1:\",self.lado1)\n",
        "        print(\"Lado 2:\",self.lado2)\n",
        "        print(\"Lado 3:\",self.lado3)\n",
        "\n",
        "    def lado_mayor(self):\n",
        "        print(\"Lado mayor:\")\n",
        "        if self.lado1>self.lado2 and self.lado1>self.lado3:\n",
        "            print(self.lado1)\n",
        "        else:\n",
        "            if self.lado2>self.lado3:\n",
        "               print(self.lado2)\n",
        "            else:\n",
        "              print(self.lado3)\n",
        "\n",
        "    def equilatero(self):\n",
        "      if self.lado1==self.lado2 and self.lado1==self.lado3:\n",
        "        print(\"El triangulo es equilatero\")\n",
        "      else:\n",
        "        print(\"El triangulo no es equilatero\")\n",
        "\n",
        "\n",
        "# bloque principal\n",
        "triangulo1=Triangulo()\n",
        "triangulo1.inicializar()\n",
        "triangulo1.imprimir()\n",
        "triangulo1.lado_mayor()\n",
        "triangulo1.equilatero()"
      ],
      "metadata": {
        "colab": {
          "base_uri": "https://localhost:8080/"
        },
        "id": "Lsp73P1xNghF",
        "outputId": "40c3eccf-4dbc-4eb3-fcac-2a08fa179363"
      },
      "execution_count": null,
      "outputs": [
        {
          "output_type": "stream",
          "name": "stdout",
          "text": [
            "ingrese el primer valor: 9\n",
            "ingrese el segundo valor: 9\n",
            "ingrese el tercer valor: 9\n",
            "Lado 1: 9\n",
            "Lado 2: 9\n",
            "Lado 3: 9\n",
            "Lado mayor:\n",
            "9\n",
            "El triangulo es equilatero\n"
          ]
        }
      ]
    }
  ]
}